{
  "nbformat": 4,
  "nbformat_minor": 0,
  "metadata": {
    "colab": {
      "provenance": [],
      "toc_visible": true
    },
    "kernelspec": {
      "name": "python3",
      "display_name": "Python 3"
    },
    "language_info": {
      "name": "python"
    }
  },
  "cells": [
    {
      "cell_type": "markdown",
      "source": [
        "# Lists:For Loop\n",
        "1. Convert a list of characters into a string. For example,\n",
        "\n",
        "\n",
        "```\n",
        "['a', 'b', 'c', 'd'] -> \"abcd\"\n",
        "```\n",
        "\n",
        "2. Calculate the area of a circle using its radius. **Get input from user** (pi = 3.14)\n",
        "\n",
        "3. Write a Python program that takes three numbers as input and prints the largest number. **Get Input from user.**\n",
        "\n",
        "```\n",
        "Enter first number:\n",
        "2\n",
        "Enter second number:\n",
        "6\n",
        "Enter third number:\n",
        "8\n",
        "Output: 862\n",
        "```\n",
        "\n",
        "4. Write a Python program that takes a list of integers and creates a new list containing the squares of each integer in the original list.\n",
        "\n",
        "```\n",
        "Input:\n",
        "[1, 2, 3, 4, 5]\n",
        "Output:\n",
        "[1, 4, 9, 16, 25]\n",
        "\n",
        "```\n",
        "\n",
        "5. Write a Python program that creates a new list where each element is the cumulative sum of the elements from the original list.\n",
        "\n",
        "```\n",
        "Input:\n",
        "[1, 2, 3, 4]\n",
        "Output:\n",
        "[1, 3, 6, 10]\n",
        "\n",
        "```"
      ],
      "metadata": {
        "id": "hdSFVbFZMhQN"
      }
    },
    {
      "cell_type": "code",
      "source": [
        "chars=['apple','pineapple','pen']#1\n",
        "print(''.join(chars))"
      ],
      "metadata": {
        "id": "X0Wchm7NUOnj",
        "outputId": "9a117dd6-a529-42be-bf41-1d60a1e8eaf4",
        "colab": {
          "base_uri": "https://localhost:8080/"
        }
      },
      "execution_count": null,
      "outputs": [
        {
          "output_type": "stream",
          "name": "stdout",
          "text": [
            "applepineapplepen\n"
          ]
        }
      ]
    },
    {
      "cell_type": "code",
      "source": [
        "import math#2\n",
        "r=int(input())\n",
        "s=math.pi*r**2\n",
        "print(s)"
      ],
      "metadata": {
        "id": "AGuNv8VVUO8N",
        "outputId": "0cdeae46-49a0-4383-c9eb-476a77d00c64",
        "colab": {
          "base_uri": "https://localhost:8080/"
        }
      },
      "execution_count": null,
      "outputs": [
        {
          "output_type": "stream",
          "name": "stdout",
          "text": [
            "8\n",
            "201.06192982974676\n"
          ]
        }
      ]
    },
    {
      "cell_type": "code",
      "source": [
        "a=int(input())#3\n",
        "b=int(input())\n",
        "c=int(input())\n",
        "if a>b and b>c:\n",
        "  print(a)\n",
        "if a>c and c>b:\n",
        "  print(a)\n",
        "if b>c and c>a:\n",
        "  print(b)\n",
        "if b>a and a>c:\n",
        "  print(b)\n",
        "if c>a and a>b:\n",
        "  print(c)\n",
        "if c>b and b>a:\n",
        "  print(c)\n"
      ],
      "metadata": {
        "id": "NfW93vSoUO9B",
        "outputId": "2875d532-0b65-4f7a-da44-6fca14a2d761",
        "colab": {
          "base_uri": "https://localhost:8080/"
        }
      },
      "execution_count": null,
      "outputs": [
        {
          "output_type": "stream",
          "name": "stdout",
          "text": [
            "2\n",
            "3\n",
            "4\n",
            "4\n"
          ]
        }
      ]
    },
    {
      "cell_type": "code",
      "source": [
        "a=int(input())#3\n",
        "b=int(input())\n",
        "c=int(input())\n",
        "print(max(a,b,c))"
      ],
      "metadata": {
        "id": "TBiHygmWUPa4",
        "outputId": "8fc1ff88-2d3b-4caa-be61-66cc4cd225c6",
        "colab": {
          "base_uri": "https://localhost:8080/"
        }
      },
      "execution_count": null,
      "outputs": [
        {
          "output_type": "stream",
          "name": "stdout",
          "text": [
            "2\n",
            "3\n",
            "4\n",
            "4\n"
          ]
        }
      ]
    },
    {
      "cell_type": "code",
      "source": [
        "a=[1,2,3,4,5,6]#4\n",
        "b=[]\n",
        "for i in range(0,len(a)):\n",
        "  c=a[i]**2\n",
        "  b.append(c)\n",
        "print(b)\n"
      ],
      "metadata": {
        "id": "VYw5mbCPWqZX",
        "outputId": "ee920e82-a0f5-4b05-f865-b71c13fa640b",
        "colab": {
          "base_uri": "https://localhost:8080/"
        }
      },
      "execution_count": null,
      "outputs": [
        {
          "output_type": "stream",
          "name": "stdout",
          "text": [
            "[1, 4, 9, 16, 25, 36]\n"
          ]
        }
      ]
    },
    {
      "cell_type": "code",
      "source": [
        "sum=0\n",
        "b=[]\n",
        "a=[1,2,3,4,5,6,7,8,9]\n",
        "for i in range(0,len(a)):\n",
        "  sum=sum+a[i]\n",
        "  b.append(sum)\n",
        "print(b)\n",
        "\n"
      ],
      "metadata": {
        "id": "N_DHn_w_XjCp",
        "outputId": "6e2a9d58-09a2-47fd-d2d8-9e7f23cd5005",
        "colab": {
          "base_uri": "https://localhost:8080/"
        }
      },
      "execution_count": null,
      "outputs": [
        {
          "output_type": "stream",
          "name": "stdout",
          "text": [
            "[1, 3, 6, 10, 15, 21, 28, 36, 45]\n"
          ]
        }
      ]
    }
  ]
}