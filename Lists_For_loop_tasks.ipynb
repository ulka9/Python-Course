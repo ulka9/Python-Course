{
  "nbformat": 4,
  "nbformat_minor": 0,
  "metadata": {
    "colab": {
      "provenance": []
    },
    "kernelspec": {
      "name": "python3",
      "display_name": "Python 3"
    },
    "language_info": {
      "name": "python"
    }
  },
  "cells": [
    {
      "cell_type": "markdown",
      "source": [
        "# Lists:For Loop\n",
        "1. Convert a list of characters into a string. For example,\n",
        "\n",
        "\n",
        "```\n",
        "['a', 'b', 'c', 'd'] -> \"abcd\"\n",
        "```\n",
        "\n",
        "2. Calculate the area of a circle using its radius. **Get input from user** (pi = 3.14)\n",
        "\n",
        "3. Write a Python program that takes three numbers as input and prints the largest number. **Get Input from user.**\n",
        "\n",
        "```\n",
        "Enter first number:\n",
        "2\n",
        "Enter second number:\n",
        "6\n",
        "Enter third number:\n",
        "8\n",
        "Output: 862\n",
        "```\n",
        "\n",
        "4. Write a Python program that takes a list of integers and creates a new list containing the squares of each integer in the original list.\n",
        "\n",
        "```\n",
        "Input:\n",
        "[1, 2, 3, 4, 5]\n",
        "Output:\n",
        "[1, 4, 9, 16, 25]\n",
        "\n",
        "```\n",
        "\n",
        "5. Write a Python program that creates a new list where each element is the cumulative sum of the elements from the original list.\n",
        "\n",
        "```\n",
        "Input:\n",
        "[1, 2, 3, 4]\n",
        "Output:\n",
        "[1, 3, 6, 10]\n",
        "\n",
        "```"
      ],
      "metadata": {
        "id": "hdSFVbFZMhQN"
      }
    }
  ]
}