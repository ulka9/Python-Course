{
  "nbformat": 4,
  "nbformat_minor": 0,
  "metadata": {
    "colab": {
      "provenance": []
    },
    "kernelspec": {
      "name": "python3",
      "display_name": "Python 3"
    },
    "language_info": {
      "name": "python"
    }
  },
  "cells": [
    {
      "cell_type": "markdown",
      "source": [
        "**1)** Create a class with names of fruits and add a new fruit, \"fig\", to the end of the list and print the updated list.\n",
        "\n",
        "**2)** Create a list with the ages of the children in the class and print the length of the list.\n",
        "\n",
        "**3)** Insert a new fruit, \"grape\", at the second position in the list and print the updated list.\n",
        "\n",
        "**4)** Remove a specific fruit, \"fig\", from the list using the remove method and print the updated list.\n",
        "\n",
        "**5)** Print the last fruit in the list after sorting it in reverse alphabetical order using the sort method.\n",
        "\n",
        "**6)** Create a copy of the list sorted in alphabetical order without modifying the original list, and print both lists.\n",
        "\n",
        "**7)** Delete the values from the first element up to the fourth element in the list given below\n",
        "\n",
        "zodiac_signs = [\"Aries\", \"Taurus\", \"Gemini\", \"Cancer\", \"Capricorn\"]\n",
        "\n",
        "**8)** Prompt the user to enter a name, then print the second letter of the entered name to the screen.\n",
        "\n",
        "**9)** Create a program that asks the user to enter their name and their age. Print out a message addressed to them that tells them the year that they will turn 100 years old. For example,\n",
        "\n",
        "What is your name? Khalid\n",
        "\n",
        "How old are you? 23\n",
        "\n",
        "Khalid will be 100 years old in the year 2101\n",
        "\n",
        "**10)** Write a Python program that accepts an integer (n) and computes the value of n+nn+nnn. Get Input from user. For example, 5 + 55 + 555 = 615"
      ],
      "metadata": {
        "id": "MRDl-lfx7haM"
      }
    },
    {
      "cell_type": "code",
      "execution_count": null,
      "metadata": {
        "id": "PSvesDe07dxA"
      },
      "outputs": [],
      "source": []
    }
  ]
}